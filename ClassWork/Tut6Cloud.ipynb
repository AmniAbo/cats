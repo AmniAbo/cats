{
  "nbformat": 4,
  "nbformat_minor": 0,
  "metadata": {
    "colab": {
      "provenance": []
    },
    "kernelspec": {
      "name": "python3",
      "display_name": "Python 3"
    },
    "language_info": {
      "name": "python"
    }
  },
  "cells": [
    {
      "cell_type": "code",
      "execution_count": 95,
      "metadata": {
        "colab": {
          "base_uri": "https://localhost:8080/"
        },
        "id": "_shhepwcldQx",
        "outputId": "63ceea90-029e-4b6e-a0b8-9c79a2e97866"
      },
      "outputs": [
        {
          "output_type": "stream",
          "name": "stdout",
          "text": [
            "Requirement already satisfied: requests in /usr/local/lib/python3.10/dist-packages (2.31.0)\n",
            "Requirement already satisfied: beautifulsoup4 in /usr/local/lib/python3.10/dist-packages (4.12.3)\n",
            "Requirement already satisfied: charset-normalizer<4,>=2 in /usr/local/lib/python3.10/dist-packages (from requests) (3.3.2)\n",
            "Requirement already satisfied: idna<4,>=2.5 in /usr/local/lib/python3.10/dist-packages (from requests) (3.7)\n",
            "Requirement already satisfied: urllib3<3,>=1.21.1 in /usr/local/lib/python3.10/dist-packages (from requests) (2.0.7)\n",
            "Requirement already satisfied: certifi>=2017.4.17 in /usr/local/lib/python3.10/dist-packages (from requests) (2024.6.2)\n",
            "Requirement already satisfied: soupsieve>1.2 in /usr/local/lib/python3.10/dist-packages (from beautifulsoup4) (2.5)\n"
          ]
        }
      ],
      "source": [
        "!pip install requests beautifulsoup4"
      ]
    },
    {
      "cell_type": "code",
      "source": [
        "import requests\n",
        "from bs4 import BeautifulSoup\n",
        "\n",
        "def fetch_page(url):\n",
        "    response = requests.get(url)\n",
        "    if response.status_code == 200:\n",
        "        soup = BeautifulSoup(response.text, 'html.parser')\n",
        "        return soup\n",
        "    else:\n",
        "        return None"
      ],
      "metadata": {
        "id": "bLlHDmQBmVci"
      },
      "execution_count": 96,
      "outputs": []
    },
    {
      "cell_type": "code",
      "source": [
        "import re\n",
        "\n",
        "def index_words(soup):\n",
        "    index = {}\n",
        "    words = re.findall(r'\\w+', soup.get_text())\n",
        "    for word in words:\n",
        "        word = word.lower()\n",
        "        if word in index:\n",
        "            index[word] += 1\n",
        "        else:\n",
        "            index[word] = 1\n",
        "    return index"
      ],
      "metadata": {
        "id": "YbG7ad1XnlBl"
      },
      "execution_count": 97,
      "outputs": []
    },
    {
      "cell_type": "code",
      "source": [
        "def remove_stop_words(index):\n",
        "    stop_words = {'a', 'an', 'the', 'and', 'or', 'in', 'on', 'at', 'to','all'}\n",
        "    for stop_word in stop_words:\n",
        "        if stop_word in index:\n",
        "            del index[stop_word]\n",
        "    return index"
      ],
      "metadata": {
        "id": "v5o20PMIoONU"
      },
      "execution_count": 98,
      "outputs": []
    },
    {
      "cell_type": "code",
      "source": [
        "from nltk.stem import PorterStemmer\n",
        "\n",
        "def apply_stemming(index):\n",
        "    stemmer = PorterStemmer()\n",
        "    stemmed_index = {}\n",
        "    for word, count in index.items():\n",
        "        stemmed_word = stemmer.stem(word)\n",
        "        if stemmed_word in stemmed_index:\n",
        "            stemmed_index[stemmed_word] += count\n",
        "        else:\n",
        "            stemmed_index[stemmed_word] = count\n",
        "    return stemmed_index"
      ],
      "metadata": {
        "id": "7ICZMiL6wWKG"
      },
      "execution_count": 99,
      "outputs": []
    },
    {
      "cell_type": "code",
      "source": [
        "def search(query, index):\n",
        "\n",
        "    stemmer = PorterStemmer()\n",
        "    query_words = re.findall(r'\\w+', query.lower())\n",
        "    results = {}\n",
        "    for word in query_words:\n",
        "        word = stemmer.stem(word)\n",
        "        if word in index:\n",
        "            results[word] = index[word]\n",
        "    return results"
      ],
      "metadata": {
        "id": "RWIUNH7fvYHl"
      },
      "execution_count": 100,
      "outputs": []
    },
    {
      "cell_type": "code",
      "source": [
        "def search_engine(url, query):\n",
        "    soup = fetch_page(url)\n",
        "    if soup is None:\n",
        "        return None\n",
        "    index = index_words(soup)\n",
        "    index = remove_stop_words(index)\n",
        "    index = apply_stemming(index)\n",
        "    results = search(query, index)\n",
        "    return results"
      ],
      "metadata": {
        "id": "Ujd1zplVvlUI"
      },
      "execution_count": 101,
      "outputs": []
    },
    {
      "cell_type": "code",
      "source": [
        "!pip install firebase\n"
      ],
      "metadata": {
        "colab": {
          "base_uri": "https://localhost:8080/"
        },
        "id": "Y_THDoUt1Etx",
        "outputId": "fd8d3936-f4f9-4a5d-9a1f-d712f28dd4b1"
      },
      "execution_count": 102,
      "outputs": [
        {
          "output_type": "stream",
          "name": "stdout",
          "text": [
            "Requirement already satisfied: firebase in /usr/local/lib/python3.10/dist-packages (4.0.1)\n",
            "Requirement already satisfied: requests in /usr/local/lib/python3.10/dist-packages (from firebase) (2.31.0)\n",
            "Requirement already satisfied: charset-normalizer<4,>=2 in /usr/local/lib/python3.10/dist-packages (from requests->firebase) (3.3.2)\n",
            "Requirement already satisfied: idna<4,>=2.5 in /usr/local/lib/python3.10/dist-packages (from requests->firebase) (3.7)\n",
            "Requirement already satisfied: urllib3<3,>=1.21.1 in /usr/local/lib/python3.10/dist-packages (from requests->firebase) (2.0.7)\n",
            "Requirement already satisfied: certifi>=2017.4.17 in /usr/local/lib/python3.10/dist-packages (from requests->firebase) (2024.6.2)\n"
          ]
        }
      ]
    },
    {
      "cell_type": "code",
      "source": [
        "from firebase import firebase\n",
        "FBconn = firebase.FirebaseApplication('https://tut5cloud-default-rtdb.europe-west1.firebasedatabase.app',None)\n",
        "url = 'https://cad.onshape.com/help/Content/Glossary/glossary.htm?tocpath=_____19'\n",
        "query = {'point', 'dimension', 'studio', 'help', 'n/a', 'render', 'onshape', 'context', 'Add', 'Shortcut'}\n",
        "for word in query:\n",
        "  results = search_engine(url, word)\n",
        "  print(results) ## load to firebase\n",
        "  rank=1\n",
        "  for word, count in results.items():\n",
        "    rank = rank*1/count\n",
        "  rank = 1-rank\n",
        "  print(rank)\n",
        "  result = FBconn.post('/Results/', results)\n",
        "  print(result)\n"
      ],
      "metadata": {
        "colab": {
          "base_uri": "https://localhost:8080/"
        },
        "id": "2FZbCrA7xHXI",
        "outputId": "8f9bc527-b0b6-4ea0-8e69-2b97dffd2b6b"
      },
      "execution_count": 103,
      "outputs": [
        {
          "output_type": "stream",
          "name": "stdout",
          "text": [
            "{'add': 26}\n",
            "0.9615384615384616\n",
            "{'name': '-O1Qt7sbgd-jmRrIJD_d'}\n",
            "{'render': 159}\n",
            "0.9937106918238994\n",
            "{'name': '-O1Qt8O4fh3Sa1Xg2p7u'}\n",
            "{'help': 13}\n",
            "0.9230769230769231\n",
            "{'name': '-O1Qt8k5kLLlw6dOqO3q'}\n",
            "{'onshap': 98}\n",
            "0.9897959183673469\n",
            "{'name': '-O1Qt990t9d_24RsyR41'}\n",
            "{'n': 505}\n",
            "0.998019801980198\n",
            "{'name': '-O1Qt9_Bix8cohtXcIYh'}\n",
            "{'context': 676}\n",
            "0.9985207100591716\n",
            "{'name': '-O1Qt9tDf2kxdsHUIJPQ'}\n",
            "{'shortcut': 631}\n",
            "0.9984152139461173\n",
            "{'name': '-O1QtA6oaaeUCy6-xF_J'}\n",
            "{'dimens': 49}\n",
            "0.9795918367346939\n",
            "{'name': '-O1QtALZzo6xw_-ZAlLL'}\n",
            "{'point': 74}\n",
            "0.9864864864864865\n",
            "{'name': '-O1QtA_YV8Rz-zYpNiOh'}\n",
            "{'studio': 369}\n",
            "0.997289972899729\n",
            "{'name': '-O1QtApMgPEXwdu8xbq3'}\n"
          ]
        }
      ]
    },
    {
      "cell_type": "code",
      "source": [
        "from firebase import firebase\n",
        "import matplotlib.pyplot as plt\n",
        "\n",
        "firebase = firebase.FirebaseApplication('https://tut5cloud-default-rtdb.europe-west1.firebasedatabase.app', None)\n",
        "result = firebase.get('/Results/', None)\n",
        "print(result.values())\n",
        "dic = {}\n",
        "for val in result.values():\n",
        "  dic.update(val)\n",
        "plt.bar(dic.keys(), dic.values())\n",
        "plt.show()"
      ],
      "metadata": {
        "colab": {
          "base_uri": "https://localhost:8080/",
          "height": 467
        },
        "id": "1_FOCVHgzq3X",
        "outputId": "f7851d30-c5ed-4065-b564-e6a7bbf175f2"
      },
      "execution_count": 104,
      "outputs": [
        {
          "output_type": "stream",
          "name": "stdout",
          "text": [
            "dict_values([{'add': 26}, {'render': 159}, {'help': 13}, {'onshap': 98}, {'n': 505}, {'context': 676}, {'shortcut': 631}, {'dimens': 49}, {'point': 74}, {'studio': 369}])\n"
          ]
        },
        {
          "output_type": "display_data",
          "data": {
            "text/plain": [
              "<Figure size 640x480 with 1 Axes>"
            ],
            "image/png": "[encoded data removed]"
          },
          "metadata": {}
        }
      ]
    }
  ]
}